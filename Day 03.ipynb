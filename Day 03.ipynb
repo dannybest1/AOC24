{
 "cells": [
  {
   "cell_type": "code",
   "execution_count": 52,
   "id": "56f400cc",
   "metadata": {},
   "outputs": [],
   "source": [
    "import pandas as pd"
   ]
  },
  {
   "cell_type": "code",
   "execution_count": 53,
   "id": "dd05a254",
   "metadata": {},
   "outputs": [
    {
     "name": "stdout",
     "output_type": "stream",
     "text": [
      "                                                text\n",
      "0  (who() what())>when()why()'mul(454,153)mul(565...\n",
      "1  where()<mul(672,282)&'>,mul(156,431)when(444,9...\n",
      "2  !who()when(),mul(565,187)'who()mul(573,606)/]<...\n",
      "3  (^*mul(552,797)mul(235,864)[%@~}~mul(222,585))...\n",
      "4  }>select()>@why(364,672)who():where()mul(385wh...\n",
      "5  how()*[mul(560,727)*when()from(); >~]'&mul(90,...\n"
     ]
    }
   ],
   "source": [
    "\n",
    "with open(r\"C:\\Users\\DanielBest(RAPP)\\Documents\\personal\\AOC2024\\DAY_03\\input.txt\", \"r\") as file:\n",
    "    lines = file.readlines()\n",
    "\n",
    "# Create a DataFrame from the lines\n",
    "df = pd.DataFrame(lines, columns=['text'])  # Name the column 'text'\n",
    "\n",
    "# Remove any trailing newline characters\n",
    "df['text'] = df['text'].str.strip()\n",
    "\n",
    "# Print the DataFrame\n",
    "print(df)"
   ]
  },
  {
   "cell_type": "code",
   "execution_count": 54,
   "id": "8298ee33",
   "metadata": {},
   "outputs": [],
   "source": [
    "df.columns = ['text'] "
   ]
  },
  {
   "cell_type": "code",
   "execution_count": 55,
   "id": "35c90c47",
   "metadata": {},
   "outputs": [
    {
     "name": "stdout",
     "output_type": "stream",
     "text": [
      "Index(['text'], dtype='object')\n"
     ]
    }
   ],
   "source": [
    "print(df.columns)"
   ]
  },
  {
   "cell_type": "code",
   "execution_count": 56,
   "id": "2ab57c60",
   "metadata": {},
   "outputs": [
    {
     "name": "stdout",
     "output_type": "stream",
     "text": [
      "['mul(2,4)', 'mul(5,5)', 'mul(11,8)', 'mul(8,5)']\n"
     ]
    }
   ],
   "source": [
    "import re\n",
    "\n",
    "# Example string\n",
    "input_string = \"mul(2,4)%&mul[3,7]!@^do_not_mul(5,5)+mul(32,64]then(mul(11,8)mul(8,5))\"\n",
    "\n",
    "# Regex pattern\n",
    "pattern = r\"mul\\(\\d{1,3},\\d{1,3}\\)\"\n",
    "\n",
    "# Extract matches\n",
    "valid_mul_entries = re.findall(pattern, input_string)\n",
    "\n",
    "print(valid_mul_entries)\n"
   ]
  },
  {
   "cell_type": "code",
   "execution_count": 57,
   "id": "92e87a88",
   "metadata": {},
   "outputs": [],
   "source": [
    "# data = {\n",
    "#     \"text\": [\n",
    "#         \"mul(2,4)%&mul[3,7]!@^do_not_mul(5,5)+mul(32,64]then(mul(11,8)mul(8,5))\",\n",
    "#         \"mul(123,4)randomstuffmul(4,4)mul(10,2)\",\n",
    "#         \"invalid(mul(5,10)mul(3,3))mul(12,34)\"\n",
    "#     ]\n",
    "# }\n",
    "\n",
    "# # Create DataFrame\n",
    "# df = pd.DataFrame(data)\n",
    "# df"
   ]
  },
  {
   "cell_type": "code",
   "execution_count": 58,
   "id": "2f629419",
   "metadata": {},
   "outputs": [
    {
     "data": {
      "text/plain": [
       "<bound method NDFrame.keys of                                                 text\n",
       "0  (who() what())>when()why()'mul(454,153)mul(565...\n",
       "1  where()<mul(672,282)&'>,mul(156,431)when(444,9...\n",
       "2  !who()when(),mul(565,187)'who()mul(573,606)/]<...\n",
       "3  (^*mul(552,797)mul(235,864)[%@~}~mul(222,585))...\n",
       "4  }>select()>@why(364,672)who():where()mul(385wh...\n",
       "5  how()*[mul(560,727)*when()from(); >~]'&mul(90,...>"
      ]
     },
     "execution_count": 58,
     "metadata": {},
     "output_type": "execute_result"
    }
   ],
   "source": [
    "df.keys"
   ]
  },
  {
   "cell_type": "code",
   "execution_count": 59,
   "id": "3b9da3b0",
   "metadata": {},
   "outputs": [
    {
     "name": "stdout",
     "output_type": "stream",
     "text": [
      "                                                text  \\\n",
      "0  (who() what())>when()why()'mul(454,153)mul(565...   \n",
      "1  where()<mul(672,282)&'>,mul(156,431)when(444,9...   \n",
      "2  !who()when(),mul(565,187)'who()mul(573,606)/]<...   \n",
      "3  (^*mul(552,797)mul(235,864)[%@~}~mul(222,585))...   \n",
      "4  }>select()>@why(364,672)who():where()mul(385wh...   \n",
      "5  how()*[mul(560,727)*when()from(); >~]'&mul(90,...   \n",
      "\n",
      "                                         mul_entries  line_sum  \n",
      "0  [69462, 561610, 474370, 672000, 61594, 240600,...  29728992  \n",
      "1  [189504, 67236, 7650, 336015, 58642, 771197, 5...  24357226  \n",
      "2  [105655, 347238, 3712, 264195, 22680, 48576, 2...  27950330  \n",
      "3  [439944, 203040, 129870, 2394, 153916, 3976, 4...  26700264  \n",
      "4  [193752, 150144, 146940, 535599, 472863, 77937...  23078534  \n",
      "5  [407120, 35370, 478584, 35500, 19750, 381790, ...  28077250  \n",
      "Total Sum: 159892596\n"
     ]
    }
   ],
   "source": [
    "# Define the regex pattern\n",
    "pattern = r\"mul\\((\\d{1,3}),(\\d{1,3})\\)\"\n",
    "\n",
    "# Apply regex, extract, calculate products, and sum\n",
    "def process_line(line):\n",
    "    matches = re.findall(pattern, line)  # Extract valid mul entries\n",
    "    results = [int(x) * int(y) for x, y in matches]  # Multiply X and Y\n",
    "    return results, sum(results)  # Return both the individual products and the sum\n",
    "\n",
    "# Apply the function to each row\n",
    "df[['mul_entries', 'line_sum']] = df['text'].apply(\n",
    "    lambda x: pd.Series(process_line(x))\n",
    ")\n",
    "\n",
    "# Calculate total sum of all lines\n",
    "total_sum = df['line_sum'].sum()\n",
    "\n",
    "# Print DataFrame and total sum\n",
    "print(df)\n",
    "print(f\"Total Sum: {total_sum}\")\n"
   ]
  },
  {
   "cell_type": "code",
   "execution_count": 60,
   "id": "734b0df3",
   "metadata": {},
   "outputs": [
    {
     "data": {
      "text/html": [
       "<div>\n",
       "<style scoped>\n",
       "    .dataframe tbody tr th:only-of-type {\n",
       "        vertical-align: middle;\n",
       "    }\n",
       "\n",
       "    .dataframe tbody tr th {\n",
       "        vertical-align: top;\n",
       "    }\n",
       "\n",
       "    .dataframe thead th {\n",
       "        text-align: right;\n",
       "    }\n",
       "</style>\n",
       "<table border=\"1\" class=\"dataframe\">\n",
       "  <thead>\n",
       "    <tr style=\"text-align: right;\">\n",
       "      <th></th>\n",
       "      <th>text</th>\n",
       "      <th>mul_entries</th>\n",
       "      <th>line_sum</th>\n",
       "    </tr>\n",
       "  </thead>\n",
       "  <tbody>\n",
       "    <tr>\n",
       "      <th>0</th>\n",
       "      <td>(who() what())&gt;when()why()'mul(454,153)mul(565...</td>\n",
       "      <td>[69462, 561610, 474370, 672000, 61594, 240600,...</td>\n",
       "      <td>29728992</td>\n",
       "    </tr>\n",
       "    <tr>\n",
       "      <th>1</th>\n",
       "      <td>where()&lt;mul(672,282)&amp;'&gt;,mul(156,431)when(444,9...</td>\n",
       "      <td>[189504, 67236, 7650, 336015, 58642, 771197, 5...</td>\n",
       "      <td>24357226</td>\n",
       "    </tr>\n",
       "    <tr>\n",
       "      <th>2</th>\n",
       "      <td>!who()when(),mul(565,187)'who()mul(573,606)/]&lt;...</td>\n",
       "      <td>[105655, 347238, 3712, 264195, 22680, 48576, 2...</td>\n",
       "      <td>27950330</td>\n",
       "    </tr>\n",
       "    <tr>\n",
       "      <th>3</th>\n",
       "      <td>(^*mul(552,797)mul(235,864)[%@~}~mul(222,585))...</td>\n",
       "      <td>[439944, 203040, 129870, 2394, 153916, 3976, 4...</td>\n",
       "      <td>26700264</td>\n",
       "    </tr>\n",
       "    <tr>\n",
       "      <th>4</th>\n",
       "      <td>}&gt;select()&gt;@why(364,672)who():where()mul(385wh...</td>\n",
       "      <td>[193752, 150144, 146940, 535599, 472863, 77937...</td>\n",
       "      <td>23078534</td>\n",
       "    </tr>\n",
       "    <tr>\n",
       "      <th>5</th>\n",
       "      <td>how()*[mul(560,727)*when()from(); &gt;~]'&amp;mul(90,...</td>\n",
       "      <td>[407120, 35370, 478584, 35500, 19750, 381790, ...</td>\n",
       "      <td>28077250</td>\n",
       "    </tr>\n",
       "  </tbody>\n",
       "</table>\n",
       "</div>"
      ],
      "text/plain": [
       "                                                text  \\\n",
       "0  (who() what())>when()why()'mul(454,153)mul(565...   \n",
       "1  where()<mul(672,282)&'>,mul(156,431)when(444,9...   \n",
       "2  !who()when(),mul(565,187)'who()mul(573,606)/]<...   \n",
       "3  (^*mul(552,797)mul(235,864)[%@~}~mul(222,585))...   \n",
       "4  }>select()>@why(364,672)who():where()mul(385wh...   \n",
       "5  how()*[mul(560,727)*when()from(); >~]'&mul(90,...   \n",
       "\n",
       "                                         mul_entries  line_sum  \n",
       "0  [69462, 561610, 474370, 672000, 61594, 240600,...  29728992  \n",
       "1  [189504, 67236, 7650, 336015, 58642, 771197, 5...  24357226  \n",
       "2  [105655, 347238, 3712, 264195, 22680, 48576, 2...  27950330  \n",
       "3  [439944, 203040, 129870, 2394, 153916, 3976, 4...  26700264  \n",
       "4  [193752, 150144, 146940, 535599, 472863, 77937...  23078534  \n",
       "5  [407120, 35370, 478584, 35500, 19750, 381790, ...  28077250  "
      ]
     },
     "execution_count": 60,
     "metadata": {},
     "output_type": "execute_result"
    }
   ],
   "source": [
    "df"
   ]
  },
  {
   "cell_type": "code",
   "execution_count": 63,
   "id": "f656b4d2",
   "metadata": {},
   "outputs": [
    {
     "name": "stdout",
     "output_type": "stream",
     "text": [
      "                                                text  \\\n",
      "0  (who() what())>when()why()'mul(454,153)mul(565...   \n",
      "1  where()<mul(672,282)&'>,mul(156,431)when(444,9...   \n",
      "2  !who()when(),mul(565,187)'who()mul(573,606)/]<...   \n",
      "3  (^*mul(552,797)mul(235,864)[%@~}~mul(222,585))...   \n",
      "4  }>select()>@why(364,672)who():where()mul(385wh...   \n",
      "5  how()*[mul(560,727)*when()from(); >~]'&mul(90,...   \n",
      "\n",
      "                                         mul_entries  line_sum  \n",
      "0  [69462, 561610, 474370, 672000, 61594, 240600,...  14897040  \n",
      "1  [189504, 67236, 7650, 336015, 58642, 771197, 5...  14432342  \n",
      "2  [105655, 347238, 3712, 264195, 22680, 48576, 2...  21588197  \n",
      "3  [439944, 203040, 129870, 2394, 153916, 3976, 4...  14444084  \n",
      "4  [193752, 150144, 146940, 535599, 472863, 77937...  11800149  \n",
      "5  [407120, 35370, 478584, 35500, 19750, 381790, ...  15465130  \n",
      "Total Sum: 92626942\n"
     ]
    }
   ],
   "source": [
    "# Regex for valid mul instructions and toggle instructions\n",
    "mul_pattern = r\"mul\\((\\d{1,3}),(\\d{1,3})\\)\"\n",
    "toggle_pattern = r\"(do\\(\\)|don't\\(\\))\"\n",
    "\n",
    "# Function to process lines with persistent state\n",
    "def process_lines_with_state(df):\n",
    "    is_enabled = True  # Start with mul instructions enabled\n",
    "    total_sum = 0\n",
    "    line_sums = []  # To store the sum for each line\n",
    "\n",
    "    for line in df['text']:\n",
    "        line_sum = 0\n",
    "        matches = re.finditer(f\"{toggle_pattern}|{mul_pattern}\", line)  # Find all instructions\n",
    "\n",
    "        for match in matches:\n",
    "            if match.group(1):  # If it's a do() or don't() instruction\n",
    "                if match.group(1) == \"do()\":\n",
    "                    is_enabled = True\n",
    "                elif match.group(1) == \"don't()\":\n",
    "                    is_enabled = False\n",
    "            elif match.group(2) and match.group(3):  # If it's a mul(X,Y) instruction\n",
    "                x, y = int(match.group(2)), int(match.group(3))\n",
    "                if is_enabled:\n",
    "                    line_sum += x * y  # Multiply only if enabled\n",
    "\n",
    "        line_sums.append(line_sum)\n",
    "        total_sum += line_sum  # Update total sum\n",
    "\n",
    "    df['line_sum'] = line_sums  # Add line sums to the DataFrame\n",
    "    return total_sum\n",
    "\n",
    "# Calculate total sum across all lines\n",
    "total_sum = process_lines_with_state(df)\n",
    "\n",
    "# Print DataFrame and total sum\n",
    "print(df)\n",
    "print(f\"Total Sum: {total_sum}\")\n"
   ]
  },
  {
   "cell_type": "code",
   "execution_count": null,
   "id": "fac9776c",
   "metadata": {},
   "outputs": [],
   "source": []
  }
 ],
 "metadata": {
  "kernelspec": {
   "display_name": "Python 3 (ipykernel)",
   "language": "python",
   "name": "python3"
  },
  "language_info": {
   "codemirror_mode": {
    "name": "ipython",
    "version": 3
   },
   "file_extension": ".py",
   "mimetype": "text/x-python",
   "name": "python",
   "nbconvert_exporter": "python",
   "pygments_lexer": "ipython3",
   "version": "3.10.9"
  }
 },
 "nbformat": 4,
 "nbformat_minor": 5
}
